{
 "cells": [
  {
   "cell_type": "code",
   "execution_count": 1,
   "metadata": {},
   "outputs": [],
   "source": [
    "import pandas as pd\n",
    "import numpy as np\n",
    "import matplotlib.pyplot as plt\n",
    "import matplotlib\n",
    "\n",
    "import sys\n",
    "import importlib\n",
    "\n",
    "import util_scripts as util"
   ]
  },
  {
   "cell_type": "code",
   "execution_count": 5,
   "metadata": {},
   "outputs": [],
   "source": [
    "import os\n",
    "from dotenv import load_dotenv\n",
    "\n",
    "from pymongo.mongo_client import MongoClient\n",
    "from pymongo.server_api import ServerApi\n",
    "\n",
    "_ = load_dotenv()\n",
    "\n",
    "MONGO_DBR_URI = os.getenv('MONGO_DBR_URI')"
   ]
  },
  {
   "cell_type": "code",
   "execution_count": null,
   "metadata": {},
   "outputs": [],
   "source": [
    "#importlib.reload(util)"
   ]
  },
  {
   "cell_type": "code",
   "execution_count": 3,
   "metadata": {},
   "outputs": [
    {
     "name": "stdout",
     "output_type": "stream",
     "text": [
      "Pinged your deployment. You successfully connected to MongoDB!\n"
     ]
    }
   ],
   "source": [
    "reload_data_driver = True\n",
    "\n",
    "if (reload_data_driver):\n",
    "\n",
    "    records = []\n",
    "\n",
    "    # Create a new client and connect to the server\n",
    "    client = MongoClient(MONGO_DBR_URI, server_api=ServerApi('1'))\n",
    "\n",
    "    # Send a ping to confirm a successful connection\n",
    "    try:\n",
    "        client.admin.command('ping')\n",
    "        print(\"Pinged your deployment. You successfully connected to MongoDB!\")\n",
    "    except Exception as e:\n",
    "        print(e)\n",
    "\n",
    "    db = client[\"upwins_db\"]\n",
    "    view_name = \"spectral_library\"\n",
    "    spectral_library = db[view_name]\n",
    "\n",
    "    records = spectral_library.find()\n",
    "\n",
    "    df = pd.DataFrame(records)\n",
    "    df.to_pickle('data/library.pkl')\n",
    "\n",
    "else:\n",
    "    df = pd.read_pickle('data/library.pkl')"
   ]
  },
  {
   "cell_type": "code",
   "execution_count": 4,
   "metadata": {},
   "outputs": [],
   "source": [
    "sc = util.SpectralCollection(df)\n",
    "wl = sc.wl\n",
    "name = sc.name\n",
    "spectra = sc.spectra"
   ]
  },
  {
   "cell_type": "code",
   "execution_count": null,
   "metadata": {},
   "outputs": [],
   "source": [
    "X_o = sc.spectra\n",
    "Yn_o = sc.name\n",
    "Yg_o = sc.genus\n",
    "Ys_o = sc.species\n",
    "Ypp_o = sc.principle_part\n",
    "Yh_o = sc.health\n",
    "Ya_o = sc.age\n",
    "Yl_o = sc.lifecycle\n",
    "Yd_o = sc.DateTimeId\n",
    "Ym_o = sc.month\n",
    "Yngs_o = sc.name_genus_species\n",
    "Ynfc_o = sc.name_full_category\n",
    "Ypt_o = sc.plant_type\n",
    "print(X_o.shape,Yn_o.shape)"
   ]
  },
  {
   "cell_type": "code",
   "execution_count": null,
   "metadata": {},
   "outputs": [],
   "source": [
    "codes = ['part', 'age', 'health', 'lifecycle']\n",
    "list_by = 'name'\n",
    "\n",
    "pd.set_option('display.max_columns', None)\n",
    "\n",
    "table = sc.df_with_codes(codes, list_by)\n",
    "\n",
    "table"
   ]
  },
  {
   "cell_type": "code",
   "execution_count": null,
   "metadata": {},
   "outputs": [],
   "source": [
    "filter = {\n",
    "    'name': 'Chasmanthium_latifolium',\n",
    "    #'fname': '',\n",
    "    #'genus': '',\n",
    "    #'species': '',\n",
    "    #'age': '',\n",
    "    'health': 'H',\n",
    "    'part': 'L',\n",
    "    #'type': '',\n",
    "    #'lifecycle': '',\n",
    "    #'date': ''\n",
    "}\n",
    "\n",
    "selected_indicies = sc.select_indicies_with_filter(filter)\n",
    "\n",
    "nSpec = len(selected_indicies)\n",
    "nSpec"
   ]
  },
  {
   "cell_type": "code",
   "execution_count": null,
   "metadata": {},
   "outputs": [],
   "source": [
    "species_list = [\n",
    "    'Baccharis_halimifolia',\n",
    "]\n",
    "\n",
    "filter = {\n",
    "    'name': '',\n",
    "    #'age': '',\n",
    "    'health': 'H',\n",
    "    #'part': '',\n",
    "    #'type': '',\n",
    "    #'lifecycle': '',\n",
    "}\n",
    "\n",
    "plotby = 'part'\n",
    "\n",
    "for species in species_list:\n",
    "    filter['name'] = species\n",
    "    sc.plot_with_filter(filter, plotby)"
   ]
  }
 ],
 "metadata": {
  "kernelspec": {
   "display_name": "Python 3",
   "language": "python",
   "name": "python3"
  },
  "language_info": {
   "codemirror_mode": {
    "name": "ipython",
    "version": 3
   },
   "file_extension": ".py",
   "mimetype": "text/x-python",
   "name": "python",
   "nbconvert_exporter": "python",
   "pygments_lexer": "ipython3",
   "version": "3.12.8"
  }
 },
 "nbformat": 4,
 "nbformat_minor": 2
}
